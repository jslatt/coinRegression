{
 "cells": [
  {
   "cell_type": "code",
   "execution_count": 7,
   "metadata": {},
   "outputs": [],
   "source": [
    "import pandas as pd\n",
    "import numpy as np\n",
    "import matplotlib.pyplot as plt\n",
    "import seaborn as sns\n",
    "import openpyxl\n",
    "import statsmodels.api as sm"
   ]
  },
  {
   "attachments": {},
   "cell_type": "markdown",
   "metadata": {},
   "source": [
    "# Demonstration of Coefficients in Regression\n",
    "This is inspired by: https://twitter.com/joshua_t_white/status/1655717884075581447\n",
    "\n",
    "Here I setup a data sample of coins that sum to a total amount of money. Then we run the regression to observe key interpretatoins. "
   ]
  },
  {
   "cell_type": "code",
   "execution_count": 6,
   "metadata": {},
   "outputs": [
    {
     "data": {
      "text/html": [
       "<div>\n",
       "<style scoped>\n",
       "    .dataframe tbody tr th:only-of-type {\n",
       "        vertical-align: middle;\n",
       "    }\n",
       "\n",
       "    .dataframe tbody tr th {\n",
       "        vertical-align: top;\n",
       "    }\n",
       "\n",
       "    .dataframe thead th {\n",
       "        text-align: right;\n",
       "    }\n",
       "</style>\n",
       "<table border=\"1\" class=\"dataframe\">\n",
       "  <thead>\n",
       "    <tr style=\"text-align: right;\">\n",
       "      <th></th>\n",
       "      <th>quarters</th>\n",
       "      <th>nickles</th>\n",
       "      <th>dimes</th>\n",
       "      <th>pennies</th>\n",
       "      <th>total</th>\n",
       "    </tr>\n",
       "  </thead>\n",
       "  <tbody>\n",
       "    <tr>\n",
       "      <th>0</th>\n",
       "      <td>7</td>\n",
       "      <td>8</td>\n",
       "      <td>2</td>\n",
       "      <td>9</td>\n",
       "      <td>244</td>\n",
       "    </tr>\n",
       "    <tr>\n",
       "      <th>1</th>\n",
       "      <td>1</td>\n",
       "      <td>6</td>\n",
       "      <td>9</td>\n",
       "      <td>5</td>\n",
       "      <td>150</td>\n",
       "    </tr>\n",
       "    <tr>\n",
       "      <th>2</th>\n",
       "      <td>3</td>\n",
       "      <td>4</td>\n",
       "      <td>7</td>\n",
       "      <td>6</td>\n",
       "      <td>171</td>\n",
       "    </tr>\n",
       "  </tbody>\n",
       "</table>\n",
       "</div>"
      ],
      "text/plain": [
       "   quarters  nickles  dimes  pennies  total\n",
       "0         7        8      2        9    244\n",
       "1         1        6      9        5    150\n",
       "2         3        4      7        6    171"
      ]
     },
     "execution_count": 6,
     "metadata": {},
     "output_type": "execute_result"
    }
   ],
   "source": [
    "df = pd.read_excel('data.xlsx')\n",
    "df.head(3)"
   ]
  },
  {
   "cell_type": "code",
   "execution_count": 8,
   "metadata": {},
   "outputs": [],
   "source": [
    "X = df[['quarters', 'nickles', 'dimes','pennies']] # independent variables\n",
    "y = df['total'] # dependent variable"
   ]
  },
  {
   "attachments": {},
   "cell_type": "markdown",
   "metadata": {},
   "source": [
    "## Test\n",
    "If this regression is correct -- we should get the value (in pennies) for each coin type:"
   ]
  },
  {
   "cell_type": "code",
   "execution_count": 9,
   "metadata": {},
   "outputs": [
    {
     "name": "stdout",
     "output_type": "stream",
     "text": [
      "                            OLS Regression Results                            \n",
      "==============================================================================\n",
      "Dep. Variable:                  total   R-squared:                       1.000\n",
      "Model:                            OLS   Adj. R-squared:                  1.000\n",
      "Method:                 Least Squares   F-statistic:                 4.574e+30\n",
      "Date:                Mon, 08 May 2023   Prob (F-statistic):               0.00\n",
      "Time:                        22:04:03   Log-Likelihood:                 853.86\n",
      "No. Observations:                  30   AIC:                            -1698.\n",
      "Df Residuals:                      25   BIC:                            -1691.\n",
      "Df Model:                           4                                         \n",
      "Covariance Type:            nonrobust                                         \n",
      "==============================================================================\n",
      "                 coef    std err          t      P>|t|      [0.025      0.975]\n",
      "------------------------------------------------------------------------------\n",
      "const       8.771e-15   6.09e-14      0.144      0.887   -1.17e-13    1.34e-13\n",
      "quarters      25.0000   7.88e-15   3.17e+15      0.000      25.000      25.000\n",
      "nickles        5.0000    8.4e-15   5.96e+14      0.000       5.000       5.000\n",
      "dimes         10.0000   7.92e-15   1.26e+15      0.000      10.000      10.000\n",
      "pennies        1.0000   7.39e-15   1.35e+14      0.000       1.000       1.000\n",
      "==============================================================================\n",
      "Omnibus:                        0.665   Durbin-Watson:                   0.723\n",
      "Prob(Omnibus):                  0.717   Jarque-Bera (JB):                0.746\n",
      "Skew:                          -0.228   Prob(JB):                        0.689\n",
      "Kurtosis:                       2.376   Cond. No.                         30.7\n",
      "==============================================================================\n",
      "\n",
      "Notes:\n",
      "[1] Standard Errors assume that the covariance matrix of the errors is correctly specified.\n"
     ]
    }
   ],
   "source": [
    "X = sm.add_constant(X)\n",
    "\n",
    "model = sm.OLS(y, X).fit()\n",
    "\n",
    "print(model.summary())"
   ]
  },
  {
   "attachments": {},
   "cell_type": "markdown",
   "metadata": {},
   "source": [
    "Great! Now we will run the same regression, but will not include quarters."
   ]
  },
  {
   "cell_type": "code",
   "execution_count": 10,
   "metadata": {},
   "outputs": [],
   "source": [
    "X = df[[ 'nickles', 'dimes','pennies']] # independent variables"
   ]
  },
  {
   "cell_type": "code",
   "execution_count": 11,
   "metadata": {},
   "outputs": [
    {
     "name": "stdout",
     "output_type": "stream",
     "text": [
      "                                 OLS Regression Results                                \n",
      "=======================================================================================\n",
      "Dep. Variable:                  total   R-squared (uncentered):                   0.894\n",
      "Model:                            OLS   Adj. R-squared (uncentered):              0.882\n",
      "Method:                 Least Squares   F-statistic:                              75.81\n",
      "Date:                Mon, 08 May 2023   Prob (F-statistic):                    2.85e-13\n",
      "Time:                        22:07:08   Log-Likelihood:                         -170.54\n",
      "No. Observations:                  30   AIC:                                      347.1\n",
      "Df Residuals:                      27   BIC:                                      351.3\n",
      "Df Model:                           3                                                  \n",
      "Covariance Type:            nonrobust                                                  \n",
      "==============================================================================\n",
      "                 coef    std err          t      P>|t|      [0.025      0.975]\n",
      "------------------------------------------------------------------------------\n",
      "nickles        9.3543      5.333      1.754      0.091      -1.588      20.296\n",
      "dimes         18.3836      4.519      4.068      0.000       9.112      27.655\n",
      "pennies       10.3209      3.666      2.816      0.009       2.800      17.842\n",
      "==============================================================================\n",
      "Omnibus:                        0.697   Durbin-Watson:                   1.752\n",
      "Prob(Omnibus):                  0.706   Jarque-Bera (JB):                0.690\n",
      "Skew:                          -0.028   Prob(JB):                        0.708\n",
      "Kurtosis:                       2.259   Cond. No.                         4.39\n",
      "==============================================================================\n",
      "\n",
      "Notes:\n",
      "[1] R² is computed without centering (uncentered) since the model does not contain a constant.\n",
      "[2] Standard Errors assume that the covariance matrix of the errors is correctly specified.\n"
     ]
    }
   ],
   "source": [
    "model = sm.OLS(y, X).fit()\n",
    "\n",
    "print(model.summary())"
   ]
  },
  {
   "attachments": {},
   "cell_type": "markdown",
   "metadata": {},
   "source": [
    "Oh no! Here we can see it estimates the value of a penny at 10x its value! Furthermore, the true value of a penny is NOT in the Confidence Interval!"
   ]
  }
 ],
 "metadata": {
  "kernelspec": {
   "display_name": "Python 3",
   "language": "python",
   "name": "python3"
  },
  "language_info": {
   "codemirror_mode": {
    "name": "ipython",
    "version": 3
   },
   "file_extension": ".py",
   "mimetype": "text/x-python",
   "name": "python",
   "nbconvert_exporter": "python",
   "pygments_lexer": "ipython3",
   "version": "3.9.10"
  },
  "orig_nbformat": 4
 },
 "nbformat": 4,
 "nbformat_minor": 2
}
